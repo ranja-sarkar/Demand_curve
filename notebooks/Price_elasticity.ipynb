{
  "nbformat": 4,
  "nbformat_minor": 0,
  "metadata": {
    "colab": {
      "provenance": [],
      "toc_visible": true
    },
    "kernelspec": {
      "name": "python3",
      "display_name": "Python 3"
    },
    "language_info": {
      "name": "python"
    }
  },
  "cells": [
    {
      "cell_type": "markdown",
      "source": [
        "# Price elasticity - linear & nonlinear"
      ],
      "metadata": {
        "id": "X4FPEuJndj_L"
      }
    },
    {
      "cell_type": "code",
      "execution_count": 1,
      "metadata": {
        "colab": {
          "base_uri": "https://localhost:8080/"
        },
        "id": "jWu0ACtRSdAs",
        "outputId": "5259a665-b16f-4f1e-cb63-f58ad890ef91"
      },
      "outputs": [
        {
          "output_type": "stream",
          "name": "stdout",
          "text": [
            "<class 'pandas.core.frame.DataFrame'>\n",
            "RangeIndex: 1000 entries, 0 to 999\n",
            "Data columns (total 2 columns):\n",
            " #   Column    Non-Null Count  Dtype\n",
            "---  ------    --------------  -----\n",
            " 0   Price     1000 non-null   int64\n",
            " 1   Quantity  1000 non-null   int64\n",
            "dtypes: int64(2)\n",
            "memory usage: 15.8 KB\n"
          ]
        }
      ],
      "source": [
        "import pandas as pd\n",
        "\n",
        "df = pd.read_csv('price_data.csv')\n",
        "df.info()"
      ]
    },
    {
      "cell_type": "code",
      "source": [
        "df.plot(x = \"Quantity\", y = \"Price\", kind = \"scatter\")"
      ],
      "metadata": {
        "colab": {
          "base_uri": "https://localhost:8080/",
          "height": 467
        },
        "id": "5PldprvNVAgM",
        "outputId": "84ce2fd7-8b8b-4ea8-8066-d2bf18960445"
      },
      "execution_count": 2,
      "outputs": [
        {
          "output_type": "execute_result",
          "data": {
            "text/plain": [
              "<Axes: xlabel='Quantity', ylabel='Price'>"
            ]
          },
          "metadata": {},
          "execution_count": 2
        },
        {
          "output_type": "display_data",
          "data": {
            "text/plain": [
              "<Figure size 640x480 with 1 Axes>"
            ],
            "image/png": "[encoded data removed]"
          },
          "metadata": {}
        }
      ]
    },
    {
      "cell_type": "code",
      "source": [
        "df.describe().T"
      ],
      "metadata": {
        "colab": {
          "base_uri": "https://localhost:8080/",
          "height": 112
        },
        "id": "SoOF6AQEVAcq",
        "outputId": "de0eed2f-8b3e-4ab3-945c-036120df9cd4"
      },
      "execution_count": 3,
      "outputs": [
        {
          "output_type": "execute_result",
          "data": {
            "text/plain": [
              "           count      mean          std   min    25%    50%     75%      max\n",
              "Price     1000.0   192.404    84.275947  15.0  145.0  187.0   216.0   1008.0\n",
              "Quantity  1000.0  1611.900  2534.252992  60.0  300.0  700.0  1907.5  23150.0"
            ],
            "text/html": [
              "\n",
              "  <div id=\"df-4fd4d090-e98f-4d82-a754-6795bbb8fc4f\" class=\"colab-df-container\">\n",
              "    <div>\n",
              "<style scoped>\n",
              "    .dataframe tbody tr th:only-of-type {\n",
              "        vertical-align: middle;\n",
              "    }\n",
              "\n",
              "    .dataframe tbody tr th {\n",
              "        vertical-align: top;\n",
              "    }\n",
              "\n",
              "    .dataframe thead th {\n",
              "        text-align: right;\n",
              "    }\n",
              "</style>\n",
              "<table border=\"1\" class=\"dataframe\">\n",
              "  <thead>\n",
              "    <tr style=\"text-align: right;\">\n",
              "      <th></th>\n",
              "      <th>count</th>\n",
              "      <th>mean</th>\n",
              "      <th>std</th>\n",
              "      <th>min</th>\n",
              "      <th>25%</th>\n",
              "      <th>50%</th>\n",
              "      <th>75%</th>\n",
              "      <th>max</th>\n",
              "    </tr>\n",
              "  </thead>\n",
              "  <tbody>\n",
              "    <tr>\n",
              "      <th>Price</th>\n",
              "      <td>1000.0</td>\n",
              "      <td>192.404</td>\n",
              "      <td>84.275947</td>\n",
              "      <td>15.0</td>\n",
              "      <td>145.0</td>\n",
              "      <td>187.0</td>\n",
              "      <td>216.0</td>\n",
              "      <td>1008.0</td>\n",
              "    </tr>\n",
              "    <tr>\n",
              "      <th>Quantity</th>\n",
              "      <td>1000.0</td>\n",
              "      <td>1611.900</td>\n",
              "      <td>2534.252992</td>\n",
              "      <td>60.0</td>\n",
              "      <td>300.0</td>\n",
              "      <td>700.0</td>\n",
              "      <td>1907.5</td>\n",
              "      <td>23150.0</td>\n",
              "    </tr>\n",
              "  </tbody>\n",
              "</table>\n",
              "</div>\n",
              "    <div class=\"colab-df-buttons\">\n",
              "\n",
              "  <div class=\"colab-df-container\">\n",
              "    <button class=\"colab-df-convert\" onclick=\"convertToInteractive('df-4fd4d090-e98f-4d82-a754-6795bbb8fc4f')\"\n",
              "            title=\"Convert this dataframe to an interactive table.\"\n",
              "            style=\"display:none;\">\n",
              "\n",
              "  <svg xmlns=\"http://www.w3.org/2000/svg\" height=\"24px\" viewBox=\"0 -960 960 960\">\n",
              "    <path d=\"M120-120v-720h720v720H120Zm60-500h600v-160H180v160Zm220 220h160v-160H400v160Zm0 220h160v-160H400v160ZM180-400h160v-160H180v160Zm440 0h160v-160H620v160ZM180-180h160v-160H180v160Zm440 0h160v-160H620v160Z\"/>\n",
              "  </svg>\n",
              "    </button>\n",
              "\n",
              "  <style>\n",
              "    .colab-df-container {\n",
              "      display:flex;\n",
              "      gap: 12px;\n",
              "    }\n",
              "\n",
              "    .colab-df-convert {\n",
              "      background-color: #E8F0FE;\n",
              "      border: none;\n",
              "      border-radius: 50%;\n",
              "      cursor: pointer;\n",
              "      display: none;\n",
              "      fill: #1967D2;\n",
              "      height: 32px;\n",
              "      padding: 0 0 0 0;\n",
              "      width: 32px;\n",
              "    }\n",
              "\n",
              "    .colab-df-convert:hover {\n",
              "      background-color: #E2EBFA;\n",
              "      box-shadow: 0px 1px 2px rgba(60, 64, 67, 0.3), 0px 1px 3px 1px rgba(60, 64, 67, 0.15);\n",
              "      fill: #174EA6;\n",
              "    }\n",
              "\n",
              "    .colab-df-buttons div {\n",
              "      margin-bottom: 4px;\n",
              "    }\n",
              "\n",
              "    [theme=dark] .colab-df-convert {\n",
              "      background-color: #3B4455;\n",
              "      fill: #D2E3FC;\n",
              "    }\n",
              "\n",
              "    [theme=dark] .colab-df-convert:hover {\n",
              "      background-color: #434B5C;\n",
              "      box-shadow: 0px 1px 3px 1px rgba(0, 0, 0, 0.15);\n",
              "      filter: drop-shadow(0px 1px 2px rgba(0, 0, 0, 0.3));\n",
              "      fill: #FFFFFF;\n",
              "    }\n",
              "  </style>\n",
              "\n",
              "    <script>\n",
              "      const buttonEl =\n",
              "        document.querySelector('#df-4fd4d090-e98f-4d82-a754-6795bbb8fc4f button.colab-df-convert');\n",
              "      buttonEl.style.display =\n",
              "        google.colab.kernel.accessAllowed ? 'block' : 'none';\n",
              "\n",
              "      async function convertToInteractive(key) {\n",
              "        const element = document.querySelector('#df-4fd4d090-e98f-4d82-a754-6795bbb8fc4f');\n",
              "        const dataTable =\n",
              "          await google.colab.kernel.invokeFunction('convertToInteractive',\n",
              "                                                    [key], {});\n",
              "        if (!dataTable) return;\n",
              "\n",
              "        const docLinkHtml = 'Like what you see? Visit the ' +\n",
              "          '<a target=\"_blank\" href=https://colab.research.google.com/notebooks/data_table.ipynb>data table notebook</a>'\n",
              "          + ' to learn more about interactive tables.';\n",
              "        element.innerHTML = '';\n",
              "        dataTable['output_type'] = 'display_data';\n",
              "        await google.colab.output.renderOutput(dataTable, element);\n",
              "        const docLink = document.createElement('div');\n",
              "        docLink.innerHTML = docLinkHtml;\n",
              "        element.appendChild(docLink);\n",
              "      }\n",
              "    </script>\n",
              "  </div>\n",
              "\n",
              "\n",
              "<div id=\"df-9bd4f53a-397d-4c6b-a365-1751786792c8\">\n",
              "  <button class=\"colab-df-quickchart\" onclick=\"quickchart('df-9bd4f53a-397d-4c6b-a365-1751786792c8')\"\n",
              "            title=\"Suggest charts\"\n",
              "            style=\"display:none;\">\n",
              "\n",
              "<svg xmlns=\"http://www.w3.org/2000/svg\" height=\"24px\"viewBox=\"0 0 24 24\"\n",
              "     width=\"24px\">\n",
              "    <g>\n",
              "        <path d=\"M19 3H5c-1.1 0-2 .9-2 2v14c0 1.1.9 2 2 2h14c1.1 0 2-.9 2-2V5c0-1.1-.9-2-2-2zM9 17H7v-7h2v7zm4 0h-2V7h2v10zm4 0h-2v-4h2v4z\"/>\n",
              "    </g>\n",
              "</svg>\n",
              "  </button>\n",
              "\n",
              "<style>\n",
              "  .colab-df-quickchart {\n",
              "      --bg-color: #E8F0FE;\n",
              "      --fill-color: #1967D2;\n",
              "      --hover-bg-color: #E2EBFA;\n",
              "      --hover-fill-color: #174EA6;\n",
              "      --disabled-fill-color: #AAA;\n",
              "      --disabled-bg-color: #DDD;\n",
              "  }\n",
              "\n",
              "  [theme=dark] .colab-df-quickchart {\n",
              "      --bg-color: #3B4455;\n",
              "      --fill-color: #D2E3FC;\n",
              "      --hover-bg-color: #434B5C;\n",
              "      --hover-fill-color: #FFFFFF;\n",
              "      --disabled-bg-color: #3B4455;\n",
              "      --disabled-fill-color: #666;\n",
              "  }\n",
              "\n",
              "  .colab-df-quickchart {\n",
              "    background-color: var(--bg-color);\n",
              "    border: none;\n",
              "    border-radius: 50%;\n",
              "    cursor: pointer;\n",
              "    display: none;\n",
              "    fill: var(--fill-color);\n",
              "    height: 32px;\n",
              "    padding: 0;\n",
              "    width: 32px;\n",
              "  }\n",
              "\n",
              "  .colab-df-quickchart:hover {\n",
              "    background-color: var(--hover-bg-color);\n",
              "    box-shadow: 0 1px 2px rgba(60, 64, 67, 0.3), 0 1px 3px 1px rgba(60, 64, 67, 0.15);\n",
              "    fill: var(--button-hover-fill-color);\n",
              "  }\n",
              "\n",
              "  .colab-df-quickchart-complete:disabled,\n",
              "  .colab-df-quickchart-complete:disabled:hover {\n",
              "    background-color: var(--disabled-bg-color);\n",
              "    fill: var(--disabled-fill-color);\n",
              "    box-shadow: none;\n",
              "  }\n",
              "\n",
              "  .colab-df-spinner {\n",
              "    border: 2px solid var(--fill-color);\n",
              "    border-color: transparent;\n",
              "    border-bottom-color: var(--fill-color);\n",
              "    animation:\n",
              "      spin 1s steps(1) infinite;\n",
              "  }\n",
              "\n",
              "  @keyframes spin {\n",
              "    0% {\n",
              "      border-color: transparent;\n",
              "      border-bottom-color: var(--fill-color);\n",
              "      border-left-color: var(--fill-color);\n",
              "    }\n",
              "    20% {\n",
              "      border-color: transparent;\n",
              "      border-left-color: var(--fill-color);\n",
              "      border-top-color: var(--fill-color);\n",
              "    }\n",
              "    30% {\n",
              "      border-color: transparent;\n",
              "      border-left-color: var(--fill-color);\n",
              "      border-top-color: var(--fill-color);\n",
              "      border-right-color: var(--fill-color);\n",
              "    }\n",
              "    40% {\n",
              "      border-color: transparent;\n",
              "      border-right-color: var(--fill-color);\n",
              "      border-top-color: var(--fill-color);\n",
              "    }\n",
              "    60% {\n",
              "      border-color: transparent;\n",
              "      border-right-color: var(--fill-color);\n",
              "    }\n",
              "    80% {\n",
              "      border-color: transparent;\n",
              "      border-right-color: var(--fill-color);\n",
              "      border-bottom-color: var(--fill-color);\n",
              "    }\n",
              "    90% {\n",
              "      border-color: transparent;\n",
              "      border-bottom-color: var(--fill-color);\n",
              "    }\n",
              "  }\n",
              "</style>\n",
              "\n",
              "  <script>\n",
              "    async function quickchart(key) {\n",
              "      const quickchartButtonEl =\n",
              "        document.querySelector('#' + key + ' button');\n",
              "      quickchartButtonEl.disabled = true;  // To prevent multiple clicks.\n",
              "      quickchartButtonEl.classList.add('colab-df-spinner');\n",
              "      try {\n",
              "        const charts = await google.colab.kernel.invokeFunction(\n",
              "            'suggestCharts', [key], {});\n",
              "      } catch (error) {\n",
              "        console.error('Error during call to suggestCharts:', error);\n",
              "      }\n",
              "      quickchartButtonEl.classList.remove('colab-df-spinner');\n",
              "      quickchartButtonEl.classList.add('colab-df-quickchart-complete');\n",
              "    }\n",
              "    (() => {\n",
              "      let quickchartButtonEl =\n",
              "        document.querySelector('#df-9bd4f53a-397d-4c6b-a365-1751786792c8 button');\n",
              "      quickchartButtonEl.style.display =\n",
              "        google.colab.kernel.accessAllowed ? 'block' : 'none';\n",
              "    })();\n",
              "  </script>\n",
              "</div>\n",
              "\n",
              "    </div>\n",
              "  </div>\n"
            ],
            "application/vnd.google.colaboratory.intrinsic+json": {
              "type": "dataframe",
              "summary": "{\n  \"name\": \"df\",\n  \"rows\": 2,\n  \"fields\": [\n    {\n      \"column\": \"count\",\n      \"properties\": {\n        \"dtype\": \"number\",\n        \"std\": 0.0,\n        \"min\": 1000.0,\n        \"max\": 1000.0,\n        \"num_unique_values\": 1,\n        \"samples\": [\n          1000.0\n        ],\n        \"semantic_type\": \"\",\n        \"description\": \"\"\n      }\n    },\n    {\n      \"column\": \"mean\",\n      \"properties\": {\n        \"dtype\": \"number\",\n        \"std\": 1003.7352474671795,\n        \"min\": 192.404,\n        \"max\": 1611.9,\n        \"num_unique_values\": 2,\n        \"samples\": [\n          1611.9\n        ],\n        \"semantic_type\": \"\",\n        \"description\": \"\"\n      }\n    },\n    {\n      \"column\": \"std\",\n      \"properties\": {\n        \"dtype\": \"number\",\n        \"std\": 1732.3953824766104,\n        \"min\": 84.27594686041358,\n        \"max\": 2534.2529921513615,\n        \"num_unique_values\": 2,\n        \"samples\": [\n          2534.2529921513615\n        ],\n        \"semantic_type\": \"\",\n        \"description\": \"\"\n      }\n    },\n    {\n      \"column\": \"min\",\n      \"properties\": {\n        \"dtype\": \"number\",\n        \"std\": 31.81980515339464,\n        \"min\": 15.0,\n        \"max\": 60.0,\n        \"num_unique_values\": 2,\n        \"samples\": [\n          60.0\n        ],\n        \"semantic_type\": \"\",\n        \"description\": \"\"\n      }\n    },\n    {\n      \"column\": \"25%\",\n      \"properties\": {\n        \"dtype\": \"number\",\n        \"std\": 109.60155108391487,\n        \"min\": 145.0,\n        \"max\": 300.0,\n        \"num_unique_values\": 2,\n        \"samples\": [\n          300.0\n        ],\n        \"semantic_type\": \"\",\n        \"description\": \"\"\n      }\n    },\n    {\n      \"column\": \"50%\",\n      \"properties\": {\n        \"dtype\": \"number\",\n        \"std\": 362.74577874869885,\n        \"min\": 187.0,\n        \"max\": 700.0,\n        \"num_unique_values\": 2,\n        \"samples\": [\n          700.0\n        ],\n        \"semantic_type\": \"\",\n        \"description\": \"\"\n      }\n    },\n    {\n      \"column\": \"75%\",\n      \"properties\": {\n        \"dtype\": \"number\",\n        \"std\": 1196.0711203770452,\n        \"min\": 216.0,\n        \"max\": 1907.5,\n        \"num_unique_values\": 2,\n        \"samples\": [\n          1907.5\n        ],\n        \"semantic_type\": \"\",\n        \"description\": \"\"\n      }\n    },\n    {\n      \"column\": \"max\",\n      \"properties\": {\n        \"dtype\": \"number\",\n        \"std\": 15656.758349032536,\n        \"min\": 1008.0,\n        \"max\": 23150.0,\n        \"num_unique_values\": 2,\n        \"samples\": [\n          23150.0\n        ],\n        \"semantic_type\": \"\",\n        \"description\": \"\"\n      }\n    }\n  ]\n}"
            }
          },
          "metadata": {},
          "execution_count": 3
        }
      ]
    },
    {
      "cell_type": "markdown",
      "source": [
        "While the relationship between price and quantity is not necessarily linear, we explore a linear regression demand function to examine how well the linear model performs. We analyze the coefficient to determine the linear price elasticity."
      ],
      "metadata": {
        "id": "8-pGD3LcXZ1F"
      }
    },
    {
      "cell_type": "code",
      "source": [
        "median_price = 187.0\n",
        "median_quantity = 700.0"
      ],
      "metadata": {
        "id": "DatzVvF_YsvG"
      },
      "execution_count": 12,
      "outputs": []
    },
    {
      "cell_type": "code",
      "source": [
        "import statsmodels.api as sm\n",
        "from statsmodels.tools.tools import add_constant\n",
        "\n",
        "x_value = df['Price']\n",
        "y_value = df['Quantity']\n",
        "X = add_constant(x_value)\n",
        "model = sm.OLS(y_value, X)\n",
        "result = model.fit()\n",
        "\n",
        "print(result.summary())"
      ],
      "metadata": {
        "colab": {
          "base_uri": "https://localhost:8080/"
        },
        "id": "QGAIZSpEVAZE",
        "outputId": "f1d67f12-14f1-4722-e204-e797ff964239"
      },
      "execution_count": 4,
      "outputs": [
        {
          "output_type": "stream",
          "name": "stdout",
          "text": [
            "                            OLS Regression Results                            \n",
            "==============================================================================\n",
            "Dep. Variable:               Quantity   R-squared:                       0.049\n",
            "Model:                            OLS   Adj. R-squared:                  0.048\n",
            "Method:                 Least Squares   F-statistic:                     51.14\n",
            "Date:                Wed, 18 Dec 2024   Prob (F-statistic):           1.66e-12\n",
            "Time:                        10:44:35   Log-Likelihood:                -9231.1\n",
            "No. Observations:                1000   AIC:                         1.847e+04\n",
            "Df Residuals:                     998   BIC:                         1.848e+04\n",
            "Df Model:                           1                                         \n",
            "Covariance Type:            nonrobust                                         \n",
            "==============================================================================\n",
            "                 coef    std err          t      P>|t|      [0.025      0.975]\n",
            "------------------------------------------------------------------------------\n",
            "const       2889.2504    194.994     14.817      0.000    2506.605    3271.896\n",
            "Price         -6.6389      0.928     -7.151      0.000      -8.461      -4.817\n",
            "==============================================================================\n",
            "Omnibus:                      845.570   Durbin-Watson:                   1.989\n",
            "Prob(Omnibus):                  0.000   Jarque-Bera (JB):            19965.020\n",
            "Skew:                           3.862   Prob(JB):                         0.00\n",
            "Kurtosis:                      23.482   Cond. No.                         524.\n",
            "==============================================================================\n",
            "\n",
            "Notes:\n",
            "[1] Standard Errors assume that the covariance matrix of the errors is correctly specified.\n"
          ]
        }
      ]
    },
    {
      "cell_type": "markdown",
      "source": [
        ">> Null Hypothesis -> Price does not affect Quantity.\n",
        "\n",
        ">> The small p-values (0.000) indicate we can reject the null hypothesis.\n",
        "\n",
        ">> A low (adj.) R-squared value indicates our model cannot explain a lot of the response variability.\n",
        "\n"
      ],
      "metadata": {
        "id": "ozBdO48PXyVT"
      }
    },
    {
      "cell_type": "code",
      "source": [
        "coeff = result.f_pvalue\n",
        "intercept, slope = result.params\n",
        "\n",
        "#Linear Price elasticity\n",
        "price_elasticity = round((slope)*(median_price/median_quantity), 2)   #we've extreme values in variables\n",
        "\n",
        "print('Linear Price Elasticity = {} with pvalue {}' .format(price_elasticity, coeff))\n"
      ],
      "metadata": {
        "colab": {
          "base_uri": "https://localhost:8080/"
        },
        "id": "fzQu1s96XPKb",
        "outputId": "f0dee369-a65a-40ec-843b-3a88722865f9"
      },
      "execution_count": 13,
      "outputs": [
        {
          "output_type": "stream",
          "name": "stdout",
          "text": [
            "Linear Price Elasticity = -1.77 with pvalue 1.6641207951448687e-12\n"
          ]
        }
      ]
    },
    {
      "cell_type": "markdown",
      "source": [
        ">> Quantity = m(price) + c where c = 2889.25 and m = -6.6389"
      ],
      "metadata": {
        "id": "Om3TshynaDwC"
      }
    },
    {
      "cell_type": "markdown",
      "source": [
        "> Observing that the price exhibits a power curve pattern, we utilize a non-linear model derived from a power regression demand function. By applying logarithmic functions and taking total differentials, we can determine the price elasticity.\n",
        "\n",
        "> Other regression forms such as polynomial regression are also used to capture the complexity of price elasticity.\n",
        "\n",
        ">> **Power Regression**"
      ],
      "metadata": {
        "id": "WUR7hXRNa1hC"
      }
    },
    {
      "cell_type": "code",
      "source": [
        "import numpy as np\n",
        "\n",
        "x_value = np.log(df['Price'])\n",
        "y_value = np.log(df['Quantity'])\n",
        "X = add_constant(x_value)\n",
        "model = sm.OLS(y_value, X)\n",
        "result = model.fit()\n",
        "\n",
        "print(result.summary())"
      ],
      "metadata": {
        "colab": {
          "base_uri": "https://localhost:8080/"
        },
        "id": "UOCXVUiBXpLy",
        "outputId": "5e686a5f-4409-4bd1-c12c-385226554b96"
      },
      "execution_count": 14,
      "outputs": [
        {
          "output_type": "stream",
          "name": "stdout",
          "text": [
            "                            OLS Regression Results                            \n",
            "==============================================================================\n",
            "Dep. Variable:               Quantity   R-squared:                       0.133\n",
            "Model:                            OLS   Adj. R-squared:                  0.132\n",
            "Method:                 Least Squares   F-statistic:                     152.6\n",
            "Date:                Wed, 18 Dec 2024   Prob (F-statistic):           1.01e-32\n",
            "Time:                        10:59:34   Log-Likelihood:                -1562.7\n",
            "No. Observations:                1000   AIC:                             3129.\n",
            "Df Residuals:                     998   BIC:                             3139.\n",
            "Df Model:                           1                                         \n",
            "Covariance Type:            nonrobust                                         \n",
            "==============================================================================\n",
            "                 coef    std err          t      P>|t|      [0.025      0.975]\n",
            "------------------------------------------------------------------------------\n",
            "const         12.1370      0.449     27.027      0.000      11.256      13.018\n",
            "Price         -1.0683      0.086    -12.353      0.000      -1.238      -0.899\n",
            "==============================================================================\n",
            "Omnibus:                        9.853   Durbin-Watson:                   1.916\n",
            "Prob(Omnibus):                  0.007   Jarque-Bera (JB):                9.804\n",
            "Skew:                           0.221   Prob(JB):                      0.00743\n",
            "Kurtosis:                       2.799   Cond. No.                         66.2\n",
            "==============================================================================\n",
            "\n",
            "Notes:\n",
            "[1] Standard Errors assume that the covariance matrix of the errors is correctly specified.\n"
          ]
        }
      ]
    },
    {
      "cell_type": "markdown",
      "source": [
        ">> We have an improved (adj.) R-squared, but it still indicates our model has room for further enhancement."
      ],
      "metadata": {
        "id": "KA79YJ8QbJ6K"
      }
    },
    {
      "cell_type": "code",
      "source": [
        "coeffN = result.f_pvalue\n",
        "intercept, slope = result.params\n",
        "\n",
        "#Non_linear Price elasticity\n",
        "price_elasticity = round((slope), 2)\n",
        "print('Non_linear Price Elasticity = {} with pvalue {}'.format(price_elasticity, coeffN))"
      ],
      "metadata": {
        "colab": {
          "base_uri": "https://localhost:8080/"
        },
        "id": "ZAp6J_A6aojp",
        "outputId": "902ab29f-b461-4da8-82dd-46061fd28200"
      },
      "execution_count": 15,
      "outputs": [
        {
          "output_type": "stream",
          "name": "stdout",
          "text": [
            "Non_linear Price Elasticity = -1.07 with pvalue 1.0083563155906331e-32\n"
          ]
        }
      ]
    },
    {
      "cell_type": "markdown",
      "source": [
        "> **Thus, a 1% increase in price results in a 1.07% decrease in demand.**"
      ],
      "metadata": {
        "id": "uQME5h0Pt_NV"
      }
    },
    {
      "cell_type": "markdown",
      "source": [
        ">> We fit the regression using a log function, so the intercept from the regression is log(c). To get the non-linear demand function, we apply the exp() method to return the value of c."
      ],
      "metadata": {
        "id": "9h5wWMs9bpU_"
      }
    },
    {
      "cell_type": "code",
      "source": [
        "import math\n",
        "\n",
        "round(math.exp(12.1370), 0)"
      ],
      "metadata": {
        "colab": {
          "base_uri": "https://localhost:8080/"
        },
        "id": "ioLMsCAnaofr",
        "outputId": "01f28685-57b3-4c76-ab9e-a78b1406a071"
      },
      "execution_count": 16,
      "outputs": [
        {
          "output_type": "execute_result",
          "data": {
            "text/plain": [
              "186652.0"
            ]
          },
          "metadata": {},
          "execution_count": 16
        }
      ]
    },
    {
      "cell_type": "markdown",
      "source": [
        ">> Quantity = 186652 * (price)**(1.07)"
      ],
      "metadata": {
        "id": "e2GPHHfub6nK"
      }
    },
    {
      "cell_type": "markdown",
      "source": [
        "# Price optimization based on price elasticity"
      ],
      "metadata": {
        "id": "cIqmg8Z3dfAj"
      }
    },
    {
      "cell_type": "markdown",
      "source": [
        ">> The goal is to recommend optimal price point for the business. We explore various price points to understand how demand and revenue fluctuate based on price elasticity and  demand function."
      ],
      "metadata": {
        "id": "IqbGi_UPfopt"
      }
    },
    {
      "cell_type": "code",
      "source": [
        "# Set price elasticity range\n",
        "elasticity = -1.07\n",
        "\n",
        "# Set price range\n",
        "price = list(np.linspace(15, 1000, num = 100))\n",
        "demand = 186652 * np.power(price, elasticity)\n",
        "revenue = list(price  * demand)\n",
        "max_revenue = np.max(revenue)\n",
        "max_index = np.argmax(revenue)\n",
        "price[max_index]"
      ],
      "metadata": {
        "colab": {
          "base_uri": "https://localhost:8080/"
        },
        "id": "kwi2wJxjclG5",
        "outputId": "f7ccdfb8-8df5-4070-83b0-44b065e28942"
      },
      "execution_count": 74,
      "outputs": [
        {
          "output_type": "execute_result",
          "data": {
            "text/plain": [
              "15.0"
            ]
          },
          "metadata": {},
          "execution_count": 74
        }
      ]
    },
    {
      "cell_type": "markdown",
      "source": [
        ">> By using a price range between 15 and 1000, we see that the optimised price for highest revenue is $15, which is the lowest price point."
      ],
      "metadata": {
        "id": "t31o2znagJjt"
      }
    },
    {
      "cell_type": "code",
      "source": [
        "data = [price, revenue]\n",
        "dff = pd.DataFrame(data)\n",
        "price_df = pd.DataFrame(dff.T)\n",
        "\n",
        "Rev = price_df[1]\n",
        "Price = price_df[0]"
      ],
      "metadata": {
        "id": "4ferhQ8bixRH"
      },
      "execution_count": 75,
      "outputs": []
    },
    {
      "cell_type": "code",
      "source": [
        "import matplotlib.pyplot as plt\n",
        "\n",
        "plt.plot(Price, Rev)\n",
        "plt.xlabel('Price')\n",
        "plt.ylabel('Revenue')\n",
        "plt.grid()\n",
        "plt.ylim(20000, 170000)"
      ],
      "metadata": {
        "colab": {
          "base_uri": "https://localhost:8080/",
          "height": 467
        },
        "id": "d2Nn7EnAgMif",
        "outputId": "8af16c73-cf13-4a33-eaa3-a3e903bbae72"
      },
      "execution_count": 76,
      "outputs": [
        {
          "output_type": "execute_result",
          "data": {
            "text/plain": [
              "(20000.0, 170000.0)"
            ]
          },
          "metadata": {},
          "execution_count": 76
        },
        {
          "output_type": "display_data",
          "data": {
            "text/plain": [
              "<Figure size 640x480 with 1 Axes>"
            ],
            "image/png": "[encoded data removed]"
          },
          "metadata": {}
        }
      ]
    },
    {
      "cell_type": "markdown",
      "source": [
        ">> Beyond the $200 price, we see a smaller difference in the revenue earned."
      ],
      "metadata": {
        "id": "_zffd9bDnHH-"
      }
    },
    {
      "cell_type": "markdown",
      "source": [
        "> **Pricing strategy based on elasticity**\n",
        "\n",
        ">> Elastic Demand: If a product has a high price elasticity, meaning that consumers are highly sensitive to changes in price, businesses may need to adopt a lower pricing strategy to attract more customers and increase sales. This could involve lowering the price of the product or offering discounts, coupons, or other promotional offers.\n",
        "\n",
        ">> Inelastic Demand: If a product has a low price elasticity, meaning that consumers are relatively insensitive to changes in price, businesses may be able to adopt a higher pricing strategy without significantly reducing demand. This could involve raising the price of the product or offering premium features or services to justify a higher price point."
      ],
      "metadata": {
        "id": "KHFLo-8bncLt"
      }
    },
    {
      "cell_type": "markdown",
      "source": [
        "> Based on the present dataset, the business by adopting a lower price strategy can capitalize on the relatively elastic demand for the product to increase overall revenue."
      ],
      "metadata": {
        "id": "4rvdckM1n3fV"
      }
    },
    {
      "cell_type": "markdown",
      "source": [
        "# Simulation with various price elasticity keeping the intercept constant"
      ],
      "metadata": {
        "id": "4NmIlCy6tRAn"
      }
    },
    {
      "cell_type": "code",
      "source": [
        "price = list(np.linspace(15, 1000, num = 100))\n",
        "\n",
        "elasticity1 = -0.8                 #inelastic demand\n",
        "demand1 = 186652 * np.power(price, elasticity1)        #nonlinear price elasticity\n",
        "revenue1 = price  * demand1\n",
        "max_revenue1 = np.max(revenue1)\n",
        "max_index1 = np.argmax(revenue1)\n",
        "#price[max_index1]\n",
        "\n",
        "data1 = {'Price': price, 'Revenue': revenue1, 'Quantity': demand1}\n",
        "price_df1 = pd.DataFrame(data1)\n",
        "\n",
        "elasticity2 = -2.0                   #perfectly elastic demand\n",
        "demand2 = 186652 * np.power(price, elasticity2)         #nonlinear price elasticity\n",
        "revenue2 = price  * demand2\n",
        "max_revenue2 = np.max(revenue2)\n",
        "max_index2 = np.argmax(revenue2)\n",
        "#price[max_index2]\n",
        "\n",
        "data2 = {'Price': price, 'Revenue': revenue2, 'Quantity': demand2}\n",
        "price_df2 = pd.DataFrame(data2)\n",
        "\n",
        "\n",
        "elasticity = -1.07\n",
        "demand = 186652 * np.power(price, elasticity)\n",
        "revenue = list(price  * demand)\n",
        "max_revenue = np.max(revenue)\n",
        "max_index = np.argmax(revenue)\n",
        "#price[max_index]\n",
        "\n",
        "data = {'Price': price, 'Revenue': revenue, 'Quantity': demand}\n",
        "price_df = pd.DataFrame(data)\n",
        "\n",
        "\n",
        "final_price_df = price_df1.merge(price_df, left_on = 'Price', right_on = 'Price')\\\n",
        "                          .merge(price_df2, left_on = 'Price', right_on = 'Price')\n",
        "\n",
        "final_price_df = final_price_df.rename(columns = {'Revenue_x':'-0.8_inelastic',\\\n",
        "                                                'Revenue':'-2.0_elastic',\\\n",
        "                                                 'Revenue_y':'-1.07_medium elasticity',\n",
        "                                                    })[['Price','-0.8_inelastic','-2.0_elastic','-1.07_medium elasticity']].set_index('Price')\n",
        "\n",
        "final_price_df.plot()\n",
        "plt.ylabel('Revenue')\n",
        "plt.grid()"
      ],
      "metadata": {
        "colab": {
          "base_uri": "https://localhost:8080/",
          "height": 449
        },
        "id": "PAaObZQCnwWN",
        "outputId": "707396df-eb71-41ae-af7a-9bd666ae51fe"
      },
      "execution_count": 86,
      "outputs": [
        {
          "output_type": "display_data",
          "data": {
            "text/plain": [
              "<Figure size 640x480 with 1 Axes>"
            ],
            "image/png": "[encoded data removed]"
          },
          "metadata": {}
        }
      ]
    },
    {
      "cell_type": "markdown",
      "source": [
        "> When greater elasticity is present, a higher discount is required to achieve revenue growth. On the other hand, inelasticity demonstrates revenue growth even when raising the price points."
      ],
      "metadata": {
        "id": "FyKP3QhyoP4F"
      }
    },
    {
      "cell_type": "code",
      "source": [],
      "metadata": {
        "id": "R-WEfSeXm7UF"
      },
      "execution_count": null,
      "outputs": []
    },
    {
      "cell_type": "code",
      "source": [],
      "metadata": {
        "id": "C2-X6wtKm7Ld"
      },
      "execution_count": null,
      "outputs": []
    }
  ]
}